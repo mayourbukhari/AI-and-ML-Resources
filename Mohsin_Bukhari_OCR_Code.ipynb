{
  "metadata": {
    "kernelspec": {
      "display_name": "Python 3",
      "name": "python3"
    },
    "language_info": {
      "name": "python",
      "version": "3.11.11",
      "mimetype": "text/x-python",
      "codemirror_mode": {
        "name": "ipython",
        "version": 3
      },
      "pygments_lexer": "ipython3",
      "nbconvert_exporter": "python",
      "file_extension": ".py"
    },
    "kaggle": {
      "accelerator": "gpu",
      "dataSources": [
        {
          "sourceId": 8993241,
          "sourceType": "datasetVersion",
          "datasetId": 5416909
        },
        {
          "sourceId": 9931376,
          "sourceType": "datasetVersion",
          "datasetId": 6104786
        }
      ],
      "dockerImageVersionId": 31041,
      "isInternetEnabled": true,
      "language": "python",
      "sourceType": "notebook",
      "isGpuEnabled": true
    },
    "colab": {
      "name": "Mohsin_Bukhari_OCR_Code",
      "provenance": [],
      "gpuType": "T4",
      "include_colab_link": true
    },
    "accelerator": "GPU"
  },
  "nbformat_minor": 0,
  "nbformat": 4,
  "cells": [
    {
      "cell_type": "markdown",
      "metadata": {
        "id": "view-in-github",
        "colab_type": "text"
      },
      "source": [
        "<a href=\"https://colab.research.google.com/github/mayourbukhari/AI-and-ML-Resources/blob/main/Mohsin_Bukhari_OCR_Code.ipynb\" target=\"_parent\"><img src=\"https://colab.research.google.com/assets/colab-badge.svg\" alt=\"Open In Colab\"/></a>"
      ]
    },
    {
      "source": [
        "# IMPORTANT: RUN THIS CELL IN ORDER TO IMPORT YOUR KAGGLE DATA SOURCES,\n",
        "# THEN FEEL FREE TO DELETE THIS CELL.\n",
        "# NOTE: THIS NOTEBOOK ENVIRONMENT DIFFERS FROM KAGGLE'S PYTHON\n",
        "# ENVIRONMENT SO THERE MAY BE MISSING LIBRARIES USED BY YOUR\n",
        "# NOTEBOOK.\n",
        "import kagglehub\n",
        "andrianang_imgur5k_sample_path = kagglehub.dataset_download('andrianang/imgur5k-sample')\n",
        "hongvnphi_iam_handwriting_preprocessed_path = kagglehub.dataset_download('hongvnphi/iam-handwriting-preprocessed')\n",
        "\n",
        "print('Data source import complete.')\n"
      ],
      "metadata": {
        "colab": {
          "base_uri": "https://localhost:8080/"
        },
        "id": "y7A-ERW1dpdt",
        "outputId": "912d5140-0536-4206-dd50-ff1361f448b1"
      },
      "cell_type": "code",
      "outputs": [
        {
          "output_type": "stream",
          "name": "stdout",
          "text": [
            "Downloading from https://www.kaggle.com/api/v1/datasets/download/andrianang/imgur5k-sample?dataset_version_number=1...\n"
          ]
        },
        {
          "output_type": "stream",
          "name": "stderr",
          "text": [
            "100%|██████████| 809M/809M [00:40<00:00, 21.2MB/s]"
          ]
        },
        {
          "output_type": "stream",
          "name": "stdout",
          "text": [
            "Extracting files...\n"
          ]
        },
        {
          "output_type": "stream",
          "name": "stderr",
          "text": [
            "\n"
          ]
        },
        {
          "output_type": "stream",
          "name": "stdout",
          "text": [
            "Downloading from https://www.kaggle.com/api/v1/datasets/download/hongvnphi/iam-handwriting-preprocessed?dataset_version_number=1...\n"
          ]
        },
        {
          "output_type": "stream",
          "name": "stderr",
          "text": [
            "100%|██████████| 933M/933M [00:47<00:00, 20.6MB/s]"
          ]
        },
        {
          "output_type": "stream",
          "name": "stdout",
          "text": [
            "Extracting files...\n"
          ]
        },
        {
          "output_type": "stream",
          "name": "stderr",
          "text": [
            "\n"
          ]
        },
        {
          "output_type": "stream",
          "name": "stdout",
          "text": [
            "Data source import complete.\n"
          ]
        }
      ],
      "execution_count": 1
    },
    {
      "cell_type": "markdown",
      "source": [
        "\"\"\"\n",
        "# Fine-Tuning TrOCR for Handwriting Recognition\n",
        "This notebook implements the fine-tuning of Microsoft's TrOCR model for handwritten text recognition,\n",
        "using the IAM Handwriting Database and Imgur5K datasets to achieve high accuracy in OCR tasks.\n",
        "\"\"\""
      ],
      "metadata": {
        "_uuid": "8f2839f25d086af736a60e9eeb907d3b93b6e0e5",
        "_cell_guid": "b1076dfc-b9ad-4769-8c92-a6c4dae69d19",
        "id": "g1GqkWoFdpd0"
      }
    },
    {
      "cell_type": "code",
      "source": [
        "# Part 1: Install necessary packages and dependencies\n",
        "!pip install numpy pandas Pillow torch torchvision\n",
        "!pip install transformers datasets evaluate jiwer wandb\n",
        "!pip install opencv-python  # For advanced image preprocessing"
      ],
      "metadata": {
        "trusted": true,
        "execution": {
          "iopub.status.busy": "2025-05-16T16:30:44.824668Z",
          "iopub.execute_input": "2025-05-16T16:30:44.825426Z",
          "iopub.status.idle": "2025-05-16T16:30:54.078664Z",
          "shell.execute_reply.started": "2025-05-16T16:30:44.825401Z",
          "shell.execute_reply": "2025-05-16T16:30:54.077558Z"
        },
        "colab": {
          "base_uri": "https://localhost:8080/"
        },
        "id": "NhutvUAZdpd3",
        "outputId": "0f7a1444-65b2-46c4-d0a6-1017404cd0f7"
      },
      "outputs": [
        {
          "output_type": "stream",
          "name": "stdout",
          "text": [
            "Requirement already satisfied: numpy in /usr/local/lib/python3.11/dist-packages (2.0.2)\n",
            "Requirement already satisfied: pandas in /usr/local/lib/python3.11/dist-packages (2.2.2)\n",
            "Requirement already satisfied: Pillow in /usr/local/lib/python3.11/dist-packages (11.2.1)\n",
            "Requirement already satisfied: torch in /usr/local/lib/python3.11/dist-packages (2.6.0+cu124)\n",
            "Requirement already satisfied: torchvision in /usr/local/lib/python3.11/dist-packages (0.21.0+cu124)\n",
            "Requirement already satisfied: python-dateutil>=2.8.2 in /usr/local/lib/python3.11/dist-packages (from pandas) (2.9.0.post0)\n",
            "Requirement already satisfied: pytz>=2020.1 in /usr/local/lib/python3.11/dist-packages (from pandas) (2025.2)\n",
            "Requirement already satisfied: tzdata>=2022.7 in /usr/local/lib/python3.11/dist-packages (from pandas) (2025.2)\n",
            "Requirement already satisfied: filelock in /usr/local/lib/python3.11/dist-packages (from torch) (3.18.0)\n",
            "Requirement already satisfied: typing-extensions>=4.10.0 in /usr/local/lib/python3.11/dist-packages (from torch) (4.13.2)\n",
            "Requirement already satisfied: networkx in /usr/local/lib/python3.11/dist-packages (from torch) (3.4.2)\n",
            "Requirement already satisfied: jinja2 in /usr/local/lib/python3.11/dist-packages (from torch) (3.1.6)\n",
            "Requirement already satisfied: fsspec in /usr/local/lib/python3.11/dist-packages (from torch) (2025.3.2)\n",
            "Requirement already satisfied: nvidia-cuda-nvrtc-cu12==12.4.127 in /usr/local/lib/python3.11/dist-packages (from torch) (12.4.127)\n",
            "Requirement already satisfied: nvidia-cuda-runtime-cu12==12.4.127 in /usr/local/lib/python3.11/dist-packages (from torch) (12.4.127)\n",
            "Requirement already satisfied: nvidia-cuda-cupti-cu12==12.4.127 in /usr/local/lib/python3.11/dist-packages (from torch) (12.4.127)\n",
            "Requirement already satisfied: nvidia-cudnn-cu12==9.1.0.70 in /usr/local/lib/python3.11/dist-packages (from torch) (9.1.0.70)\n",
            "Requirement already satisfied: nvidia-cublas-cu12==12.4.5.8 in /usr/local/lib/python3.11/dist-packages (from torch) (12.4.5.8)\n",
            "Requirement already satisfied: nvidia-cufft-cu12==11.2.1.3 in /usr/local/lib/python3.11/dist-packages (from torch) (11.2.1.3)\n",
            "Requirement already satisfied: nvidia-curand-cu12==10.3.5.147 in /usr/local/lib/python3.11/dist-packages (from torch) (10.3.5.147)\n",
            "Requirement already satisfied: nvidia-cusolver-cu12==11.6.1.9 in /usr/local/lib/python3.11/dist-packages (from torch) (11.6.1.9)\n",
            "Requirement already satisfied: nvidia-cusparse-cu12==12.3.1.170 in /usr/local/lib/python3.11/dist-packages (from torch) (12.3.1.170)\n",
            "Requirement already satisfied: nvidia-cusparselt-cu12==0.6.2 in /usr/local/lib/python3.11/dist-packages (from torch) (0.6.2)\n",
            "Requirement already satisfied: nvidia-nccl-cu12==2.21.5 in /usr/local/lib/python3.11/dist-packages (from torch) (2.21.5)\n",
            "Requirement already satisfied: nvidia-nvtx-cu12==12.4.127 in /usr/local/lib/python3.11/dist-packages (from torch) (12.4.127)\n",
            "Requirement already satisfied: nvidia-nvjitlink-cu12==12.4.127 in /usr/local/lib/python3.11/dist-packages (from torch) (12.4.127)\n",
            "Requirement already satisfied: triton==3.2.0 in /usr/local/lib/python3.11/dist-packages (from torch) (3.2.0)\n",
            "Requirement already satisfied: sympy==1.13.1 in /usr/local/lib/python3.11/dist-packages (from torch) (1.13.1)\n",
            "Requirement already satisfied: mpmath<1.4,>=1.1.0 in /usr/local/lib/python3.11/dist-packages (from sympy==1.13.1->torch) (1.3.0)\n",
            "Requirement already satisfied: six>=1.5 in /usr/local/lib/python3.11/dist-packages (from python-dateutil>=2.8.2->pandas) (1.17.0)\n",
            "Requirement already satisfied: MarkupSafe>=2.0 in /usr/local/lib/python3.11/dist-packages (from jinja2->torch) (3.0.2)\n",
            "Requirement already satisfied: transformers in /usr/local/lib/python3.11/dist-packages (4.51.3)\n",
            "Requirement already satisfied: datasets in /usr/local/lib/python3.11/dist-packages (2.14.4)\n",
            "Requirement already satisfied: evaluate in /usr/local/lib/python3.11/dist-packages (0.4.3)\n",
            "Requirement already satisfied: jiwer in /usr/local/lib/python3.11/dist-packages (3.1.0)\n",
            "Requirement already satisfied: wandb in /usr/local/lib/python3.11/dist-packages (0.19.11)\n",
            "Requirement already satisfied: filelock in /usr/local/lib/python3.11/dist-packages (from transformers) (3.18.0)\n",
            "Requirement already satisfied: huggingface-hub<1.0,>=0.30.0 in /usr/local/lib/python3.11/dist-packages (from transformers) (0.31.2)\n",
            "Requirement already satisfied: numpy>=1.17 in /usr/local/lib/python3.11/dist-packages (from transformers) (2.0.2)\n",
            "Requirement already satisfied: packaging>=20.0 in /usr/local/lib/python3.11/dist-packages (from transformers) (24.2)\n",
            "Requirement already satisfied: pyyaml>=5.1 in /usr/local/lib/python3.11/dist-packages (from transformers) (6.0.2)\n",
            "Requirement already satisfied: regex!=2019.12.17 in /usr/local/lib/python3.11/dist-packages (from transformers) (2024.11.6)\n",
            "Requirement already satisfied: requests in /usr/local/lib/python3.11/dist-packages (from transformers) (2.32.3)\n",
            "Requirement already satisfied: tokenizers<0.22,>=0.21 in /usr/local/lib/python3.11/dist-packages (from transformers) (0.21.1)\n",
            "Requirement already satisfied: safetensors>=0.4.3 in /usr/local/lib/python3.11/dist-packages (from transformers) (0.5.3)\n",
            "Requirement already satisfied: tqdm>=4.27 in /usr/local/lib/python3.11/dist-packages (from transformers) (4.67.1)\n",
            "Requirement already satisfied: pyarrow>=8.0.0 in /usr/local/lib/python3.11/dist-packages (from datasets) (18.1.0)\n",
            "Requirement already satisfied: dill<0.3.8,>=0.3.0 in /usr/local/lib/python3.11/dist-packages (from datasets) (0.3.7)\n",
            "Requirement already satisfied: pandas in /usr/local/lib/python3.11/dist-packages (from datasets) (2.2.2)\n",
            "Requirement already satisfied: xxhash in /usr/local/lib/python3.11/dist-packages (from datasets) (3.5.0)\n",
            "Requirement already satisfied: multiprocess in /usr/local/lib/python3.11/dist-packages (from datasets) (0.70.15)\n",
            "Requirement already satisfied: fsspec>=2021.11.1 in /usr/local/lib/python3.11/dist-packages (from fsspec[http]>=2021.11.1->datasets) (2025.3.2)\n",
            "Requirement already satisfied: aiohttp in /usr/local/lib/python3.11/dist-packages (from datasets) (3.11.15)\n",
            "Requirement already satisfied: click>=8.1.8 in /usr/local/lib/python3.11/dist-packages (from jiwer) (8.2.0)\n",
            "Requirement already satisfied: rapidfuzz>=3.9.7 in /usr/local/lib/python3.11/dist-packages (from jiwer) (3.13.0)\n",
            "Requirement already satisfied: docker-pycreds>=0.4.0 in /usr/local/lib/python3.11/dist-packages (from wandb) (0.4.0)\n",
            "Requirement already satisfied: gitpython!=3.1.29,>=1.0.0 in /usr/local/lib/python3.11/dist-packages (from wandb) (3.1.44)\n",
            "Requirement already satisfied: platformdirs in /usr/local/lib/python3.11/dist-packages (from wandb) (4.3.8)\n",
            "Requirement already satisfied: protobuf!=4.21.0,!=5.28.0,<7,>=3.19.0 in /usr/local/lib/python3.11/dist-packages (from wandb) (5.29.4)\n",
            "Requirement already satisfied: psutil>=5.0.0 in /usr/local/lib/python3.11/dist-packages (from wandb) (5.9.5)\n",
            "Requirement already satisfied: pydantic<3 in /usr/local/lib/python3.11/dist-packages (from wandb) (2.11.4)\n",
            "Requirement already satisfied: sentry-sdk>=2.0.0 in /usr/local/lib/python3.11/dist-packages (from wandb) (2.28.0)\n",
            "Requirement already satisfied: setproctitle in /usr/local/lib/python3.11/dist-packages (from wandb) (1.3.6)\n",
            "Requirement already satisfied: setuptools in /usr/local/lib/python3.11/dist-packages (from wandb) (75.2.0)\n",
            "Requirement already satisfied: typing-extensions<5,>=4.4 in /usr/local/lib/python3.11/dist-packages (from wandb) (4.13.2)\n",
            "Requirement already satisfied: six>=1.4.0 in /usr/local/lib/python3.11/dist-packages (from docker-pycreds>=0.4.0->wandb) (1.17.0)\n",
            "Requirement already satisfied: aiohappyeyeballs>=2.3.0 in /usr/local/lib/python3.11/dist-packages (from aiohttp->datasets) (2.6.1)\n",
            "Requirement already satisfied: aiosignal>=1.1.2 in /usr/local/lib/python3.11/dist-packages (from aiohttp->datasets) (1.3.2)\n",
            "Requirement already satisfied: attrs>=17.3.0 in /usr/local/lib/python3.11/dist-packages (from aiohttp->datasets) (25.3.0)\n",
            "Requirement already satisfied: frozenlist>=1.1.1 in /usr/local/lib/python3.11/dist-packages (from aiohttp->datasets) (1.6.0)\n",
            "Requirement already satisfied: multidict<7.0,>=4.5 in /usr/local/lib/python3.11/dist-packages (from aiohttp->datasets) (6.4.3)\n",
            "Requirement already satisfied: propcache>=0.2.0 in /usr/local/lib/python3.11/dist-packages (from aiohttp->datasets) (0.3.1)\n",
            "Requirement already satisfied: yarl<2.0,>=1.17.0 in /usr/local/lib/python3.11/dist-packages (from aiohttp->datasets) (1.20.0)\n",
            "Requirement already satisfied: gitdb<5,>=4.0.1 in /usr/local/lib/python3.11/dist-packages (from gitpython!=3.1.29,>=1.0.0->wandb) (4.0.12)\n",
            "Requirement already satisfied: annotated-types>=0.6.0 in /usr/local/lib/python3.11/dist-packages (from pydantic<3->wandb) (0.7.0)\n",
            "Requirement already satisfied: pydantic-core==2.33.2 in /usr/local/lib/python3.11/dist-packages (from pydantic<3->wandb) (2.33.2)\n",
            "Requirement already satisfied: typing-inspection>=0.4.0 in /usr/local/lib/python3.11/dist-packages (from pydantic<3->wandb) (0.4.0)\n",
            "Requirement already satisfied: charset-normalizer<4,>=2 in /usr/local/lib/python3.11/dist-packages (from requests->transformers) (3.4.2)\n",
            "Requirement already satisfied: idna<4,>=2.5 in /usr/local/lib/python3.11/dist-packages (from requests->transformers) (3.10)\n",
            "Requirement already satisfied: urllib3<3,>=1.21.1 in /usr/local/lib/python3.11/dist-packages (from requests->transformers) (2.4.0)\n",
            "Requirement already satisfied: certifi>=2017.4.17 in /usr/local/lib/python3.11/dist-packages (from requests->transformers) (2025.4.26)\n",
            "Requirement already satisfied: python-dateutil>=2.8.2 in /usr/local/lib/python3.11/dist-packages (from pandas->datasets) (2.9.0.post0)\n",
            "Requirement already satisfied: pytz>=2020.1 in /usr/local/lib/python3.11/dist-packages (from pandas->datasets) (2025.2)\n",
            "Requirement already satisfied: tzdata>=2022.7 in /usr/local/lib/python3.11/dist-packages (from pandas->datasets) (2025.2)\n",
            "Requirement already satisfied: smmap<6,>=3.0.1 in /usr/local/lib/python3.11/dist-packages (from gitdb<5,>=4.0.1->gitpython!=3.1.29,>=1.0.0->wandb) (5.0.2)\n",
            "Requirement already satisfied: opencv-python in /usr/local/lib/python3.11/dist-packages (4.11.0.86)\n",
            "Requirement already satisfied: numpy>=1.21.2 in /usr/local/lib/python3.11/dist-packages (from opencv-python) (2.0.2)\n"
          ]
        }
      ],
      "execution_count": 3
    },
    {
      "cell_type": "code",
      "source": [
        "# Part 2: Configure Weights & Biases for experiment tracking (optional)\n",
        "import os\n",
        "import wandb\n",
        "\n",
        "# Set wandb API key (replace with your actual key or comment out if not using wandb)\n",
        "wandb_api_key = \"YOUR_WANDB_API_KEY\"  # Replace with your key or load from environment\n",
        "os.environ[\"WANDB_API_KEY\"] = wandb_api_key\n",
        "wandb.login(key=os.environ[\"WANDB_API_KEY\"])\n"
      ],
      "metadata": {
        "trusted": true,
        "execution": {
          "iopub.status.busy": "2025-05-16T16:31:17.894702Z",
          "iopub.execute_input": "2025-05-16T16:31:17.895021Z",
          "iopub.status.idle": "2025-05-16T16:31:25.15044Z",
          "shell.execute_reply.started": "2025-05-16T16:31:17.894993Z",
          "shell.execute_reply": "2025-05-16T16:31:25.14985Z"
        },
        "colab": {
          "base_uri": "https://localhost:8080/"
        },
        "id": "d3Gc9qcadpd6",
        "outputId": "d0ecab1b-0c50-46e5-bda6-0943501d6c60"
      },
      "outputs": [
        {
          "output_type": "stream",
          "name": "stderr",
          "text": [
            "\u001b[34m\u001b[1mwandb\u001b[0m: \u001b[33mWARNING\u001b[0m If you're specifying your api key in code, ensure this code is not shared publicly.\n",
            "\u001b[34m\u001b[1mwandb\u001b[0m: \u001b[33mWARNING\u001b[0m Consider setting the WANDB_API_KEY environment variable, or running `wandb login` from the command line.\n",
            "\u001b[34m\u001b[1mwandb\u001b[0m: No netrc file found, creating one.\n",
            "\u001b[34m\u001b[1mwandb\u001b[0m: Appending key for api.wandb.ai to your netrc file: /root/.netrc\n",
            "\u001b[34m\u001b[1mwandb\u001b[0m: Currently logged in as: \u001b[33msmayour82\u001b[0m (\u001b[33msmayour82-lovely-professional-university\u001b[0m) to \u001b[32mhttps://api.wandb.ai\u001b[0m. Use \u001b[1m`wandb login --relogin`\u001b[0m to force relogin\n"
          ]
        },
        {
          "output_type": "execute_result",
          "data": {
            "text/plain": [
              "True"
            ]
          },
          "metadata": {},
          "execution_count": 4
        }
      ],
      "execution_count": 4
    },
    {
      "cell_type": "code",
      "source": [
        "# Part 3: Load and preprocess datasets\n",
        "import os\n",
        "import random\n",
        "import numpy as np\n",
        "import pandas as pd\n",
        "from sklearn.model_selection import train_test_split\n",
        "import cv2  # OpenCV for advanced image preprocessing\n",
        "from PIL import Image\n",
        "# -------------------------------\n",
        "# PART 3A: PROCESS IMGUR5K DATASET\n",
        "# -------------------------------\n",
        "def load_imgur_labels(labels_file, images_dir, sep=\"\\t\"):\n",
        "    \"\"\"\n",
        "    Reads a labels file where each line contains a relative image path and its transcription.\n",
        "    Returns a DataFrame with columns: image_filename, text, image_path.\n",
        "    Expected format:\n",
        "      ./eval_images\\\\image_0.png It\n",
        "      ./eval_images\\\\image_1.png takes\n",
        "      ...\n",
        "    \"\"\"\n",
        "    data = []\n",
        "    with open(labels_file, 'r', encoding='utf-8') as f:\n",
        "        lines = f.readlines()\n",
        "    for line in lines:\n",
        "        line = line.strip()\n",
        "        if not line:\n",
        "            continue\n",
        "        tokens = line.split()\n",
        "        if len(tokens) < 2:\n",
        "            continue\n",
        "        # Normalize path\n",
        "        rel_path = tokens[0].replace(\"\\\\\", \"/\")\n",
        "        filename = os.path.basename(rel_path)\n",
        "        image_path = os.path.join(images_dir, filename)\n",
        "        text = \" \".join(tokens[1:])\n",
        "        data.append({\"image_filename\": filename, \"text\": text, \"image_path\": image_path})\n",
        "    return pd.DataFrame(data)\n",
        "\n",
        "# Base path for IMGUR5K dataset on Kaggle\n",
        "imgur_base_path = \"/kaggle/input/imgur5k-sample/\"\n",
        "train_images_dir = os.path.join(imgur_base_path, \"train_images\")\n",
        "test_images_dir  = os.path.join(imgur_base_path, \"test_images\")\n",
        "eval_images_dir  = os.path.join(imgur_base_path, \"eval_images\")\n",
        "\n",
        "train_labels_file = os.path.join(imgur_base_path, \"train_labels.txt\")\n",
        "test_labels_file  = os.path.join(imgur_base_path, \"test_labels.txt\")\n",
        "eval_labels_file  = os.path.join(imgur_base_path, \"eval_labels.txt\")\n",
        "\n",
        "# Load IMGUR5K data\n",
        "df_imgur_train = load_imgur_labels(train_labels_file, train_images_dir)\n",
        "df_imgur_test  = load_imgur_labels(test_labels_file, test_images_dir)\n",
        "df_imgur_eval  = load_imgur_labels(eval_labels_file, eval_images_dir)\n",
        "\n",
        "print(\"IMGUR5K splits:\")\n",
        "print(\"Train:\", df_imgur_train.shape)\n",
        "print(\"Test:\", df_imgur_test.shape)\n",
        "print(\"Eval:\", df_imgur_eval.shape)\n",
        "# -------------------------------\n",
        "# PART 3B: PROCESS IAM HANDWRITING DATASET\n",
        "# -------------------------------\n",
        "import kagglehub\n",
        "iam_path = kagglehub.dataset_download(\"hongvnphi/iam-handwriting-preprocessed\")\n",
        "# Adjust the IAM path if needed:\n",
        "iam_path = iam_path + '/kaggle/working/iam-handwriting-dataset/'\n",
        "print(\"Path to IAM dataset files:\", iam_path)\n",
        "\n",
        "def load_iam_preprocessed(split_folder):\n",
        "    \"\"\"\n",
        "    Reads image and label files from a split folder.\n",
        "    Expects 'images' and 'labels' subfolders.\n",
        "    Returns a DataFrame with columns: image_filename, text, image_path.\n",
        "    \"\"\"\n",
        "    images_dir = os.path.join(split_folder, \"images\")\n",
        "    labels_dir = os.path.join(split_folder, \"labels\")\n",
        "    label_files = [f for f in os.listdir(labels_dir) if f.endswith(\".txt\")]\n",
        "    data = []\n",
        "    for label_file in label_files:\n",
        "        base = os.path.splitext(label_file)[0]\n",
        "        image_filename = base + \".png\"\n",
        "        image_path = os.path.join(images_dir, image_filename)\n",
        "        label_path = os.path.join(labels_dir, label_file)\n",
        "        with open(label_path, \"r\", encoding=\"utf-8\") as f:\n",
        "            label_text = f.read().strip()\n",
        "        data.append({\n",
        "            \"image_filename\": image_filename,\n",
        "            \"text\": label_text,\n",
        "            \"image_path\": image_path\n",
        "        })\n",
        "    return pd.DataFrame(data)\n",
        "\n",
        "iam_dataset_path = iam_path\n",
        "df_iam_train = load_iam_preprocessed(os.path.join(iam_dataset_path, \"train\"))\n",
        "df_iam_val   = load_iam_preprocessed(os.path.join(iam_dataset_path, \"validation\"))\n",
        "df_iam_test  = load_iam_preprocessed(os.path.join(iam_dataset_path, \"test\"))\n",
        "\n",
        "print(\"IAM splits:\")\n",
        "print(\"Train:\", df_iam_train.shape)\n",
        "print(\"Validation:\", df_iam_val.shape)\n",
        "print(\"Test:\", df_iam_test.shape)\n",
        "\n",
        "# -------------------------------\n",
        "# PART 3C: COMBINE DATASETS AND SPLIT FOR FINE-TUNING\n",
        "# -------------------------------\n",
        "# Combine all splits from both datasets\n",
        "df_imgur_all = pd.concat([df_imgur_train, df_imgur_test, df_imgur_eval], ignore_index=True)\n",
        "df_iam_all   = pd.concat([df_iam_train, df_iam_val, df_iam_test], ignore_index=True)\n",
        "\n",
        "# Following the assignment requirements for test set evaluation\n",
        "# We'll keep the IAM test set separate for final evaluation\n",
        "df_iam_test_reserved = df_iam_test.copy()\n",
        "df_iam_rest = pd.concat([df_iam_train, df_iam_val], ignore_index=True)\n",
        "\n",
        "# Combine all training data (IAM rest + IMGUR5K)\n",
        "df_train_combined = pd.concat([df_iam_rest, df_imgur_all], ignore_index=True)\n",
        "\n",
        "# Shuffle the combined data\n",
        "df_train_combined = df_train_combined.sample(frac=1, random_state=42).reset_index(drop=True)\n",
        "\n",
        "# Split into train (90%) and validation (10%) following assignment requirements\n",
        "train_size = 0.9\n",
        "df_train, df_val = train_test_split(df_train_combined, test_size=(1-train_size), random_state=42)\n",
        "\n",
        "print(\"Final split shapes:\")\n",
        "print(\"Train:\", df_train.shape)\n",
        "print(\"Validation:\", df_val.shape)\n",
        "print(\"Test (IAM test set):\", df_iam_test_reserved.shape)\n",
        "\n",
        "# Save the splits as CSV files\n",
        "df_train.to_csv(\"combined_train.csv\", index=False)\n",
        "df_val.to_csv(\"combined_val.csv\", index=False)\n",
        "df_iam_test_reserved.to_csv(\"iam_test.csv\", index=False)\n",
        "print(\"Saved CSV files: combined_train.csv, combined_val.csv, iam_test.csv\")\n"
      ],
      "metadata": {
        "trusted": true,
        "execution": {
          "iopub.status.busy": "2025-05-16T16:31:41.505117Z",
          "iopub.execute_input": "2025-05-16T16:31:41.505543Z",
          "iopub.status.idle": "2025-05-16T16:31:57.510942Z",
          "shell.execute_reply.started": "2025-05-16T16:31:41.505519Z",
          "shell.execute_reply": "2025-05-16T16:31:57.51004Z"
        },
        "colab": {
          "base_uri": "https://localhost:8080/",
          "height": 332
        },
        "id": "w_GSRhuCdpd7",
        "outputId": "23606621-a8a2-4525-c2b2-fd777eca4601"
      },
      "outputs": [
        {
          "output_type": "error",
          "ename": "FileNotFoundError",
          "evalue": "[Errno 2] No such file or directory: '/kaggle/input/imgur5k-sample/train_labels.txt'",
          "traceback": [
            "\u001b[0;31m---------------------------------------------------------------------------\u001b[0m",
            "\u001b[0;31mFileNotFoundError\u001b[0m                         Traceback (most recent call last)",
            "\u001b[0;32m<ipython-input-5-e14e7e9db0ea>\u001b[0m in \u001b[0;36m<cell line: 0>\u001b[0;34m()\u001b[0m\n\u001b[1;32m     48\u001b[0m \u001b[0;34m\u001b[0m\u001b[0m\n\u001b[1;32m     49\u001b[0m \u001b[0;31m# Load IMGUR5K data\u001b[0m\u001b[0;34m\u001b[0m\u001b[0;34m\u001b[0m\u001b[0m\n\u001b[0;32m---> 50\u001b[0;31m \u001b[0mdf_imgur_train\u001b[0m \u001b[0;34m=\u001b[0m \u001b[0mload_imgur_labels\u001b[0m\u001b[0;34m(\u001b[0m\u001b[0mtrain_labels_file\u001b[0m\u001b[0;34m,\u001b[0m \u001b[0mtrain_images_dir\u001b[0m\u001b[0;34m)\u001b[0m\u001b[0;34m\u001b[0m\u001b[0;34m\u001b[0m\u001b[0m\n\u001b[0m\u001b[1;32m     51\u001b[0m \u001b[0mdf_imgur_test\u001b[0m  \u001b[0;34m=\u001b[0m \u001b[0mload_imgur_labels\u001b[0m\u001b[0;34m(\u001b[0m\u001b[0mtest_labels_file\u001b[0m\u001b[0;34m,\u001b[0m \u001b[0mtest_images_dir\u001b[0m\u001b[0;34m)\u001b[0m\u001b[0;34m\u001b[0m\u001b[0;34m\u001b[0m\u001b[0m\n\u001b[1;32m     52\u001b[0m \u001b[0mdf_imgur_eval\u001b[0m  \u001b[0;34m=\u001b[0m \u001b[0mload_imgur_labels\u001b[0m\u001b[0;34m(\u001b[0m\u001b[0meval_labels_file\u001b[0m\u001b[0;34m,\u001b[0m \u001b[0meval_images_dir\u001b[0m\u001b[0;34m)\u001b[0m\u001b[0;34m\u001b[0m\u001b[0;34m\u001b[0m\u001b[0m\n",
            "\u001b[0;32m<ipython-input-5-e14e7e9db0ea>\u001b[0m in \u001b[0;36mload_imgur_labels\u001b[0;34m(labels_file, images_dir, sep)\u001b[0m\n\u001b[1;32m     20\u001b[0m     \"\"\"\n\u001b[1;32m     21\u001b[0m     \u001b[0mdata\u001b[0m \u001b[0;34m=\u001b[0m \u001b[0;34m[\u001b[0m\u001b[0;34m]\u001b[0m\u001b[0;34m\u001b[0m\u001b[0;34m\u001b[0m\u001b[0m\n\u001b[0;32m---> 22\u001b[0;31m     \u001b[0;32mwith\u001b[0m \u001b[0mopen\u001b[0m\u001b[0;34m(\u001b[0m\u001b[0mlabels_file\u001b[0m\u001b[0;34m,\u001b[0m \u001b[0;34m'r'\u001b[0m\u001b[0;34m,\u001b[0m \u001b[0mencoding\u001b[0m\u001b[0;34m=\u001b[0m\u001b[0;34m'utf-8'\u001b[0m\u001b[0;34m)\u001b[0m \u001b[0;32mas\u001b[0m \u001b[0mf\u001b[0m\u001b[0;34m:\u001b[0m\u001b[0;34m\u001b[0m\u001b[0;34m\u001b[0m\u001b[0m\n\u001b[0m\u001b[1;32m     23\u001b[0m         \u001b[0mlines\u001b[0m \u001b[0;34m=\u001b[0m \u001b[0mf\u001b[0m\u001b[0;34m.\u001b[0m\u001b[0mreadlines\u001b[0m\u001b[0;34m(\u001b[0m\u001b[0;34m)\u001b[0m\u001b[0;34m\u001b[0m\u001b[0;34m\u001b[0m\u001b[0m\n\u001b[1;32m     24\u001b[0m     \u001b[0;32mfor\u001b[0m \u001b[0mline\u001b[0m \u001b[0;32min\u001b[0m \u001b[0mlines\u001b[0m\u001b[0;34m:\u001b[0m\u001b[0;34m\u001b[0m\u001b[0;34m\u001b[0m\u001b[0m\n",
            "\u001b[0;31mFileNotFoundError\u001b[0m: [Errno 2] No such file or directory: '/kaggle/input/imgur5k-sample/train_labels.txt'"
          ]
        }
      ],
      "execution_count": 5
    },
    {
      "cell_type": "code",
      "source": [
        "# Part 4: Define the OCR dataset and model architecture\n",
        "import torch\n",
        "from torch.utils.data import Dataset\n",
        "import torchvision.transforms as transforms\n",
        "from transformers import (\n",
        "    VisionEncoderDecoderModel,\n",
        "    TrOCRProcessor,\n",
        "    Seq2SeqTrainer,\n",
        "    Seq2SeqTrainingArguments,\n",
        "    TrainerCallback,\n",
        "    EarlyStoppingCallback\n",
        ")\n",
        "import evaluate\n",
        "from torch.cuda.amp import autocast  # For mixed precision training\n",
        "\n",
        "# Set seed for reproducibility\n",
        "def set_seed(seed=42):\n",
        "    random.seed(seed)\n",
        "    np.random.seed(seed)\n",
        "    torch.manual_seed(seed)\n",
        "    torch.cuda.manual_seed_all(seed)\n",
        "\n",
        "set_seed(42)\n",
        "\n",
        "# Configuration parameters as per assignment requirements\n",
        "class Config:\n",
        "    BATCH_SIZE = 4                # For Tesla P100 or single T4\n",
        "    EPOCHS = 10                   # Minimum 10 epochs as per assignment\n",
        "    LEARNING_RATE = 5e-5          # Suggested learning rate in assignment\n",
        "    TRAIN_CSV = \"combined_train.csv\"\n",
        "    VAL_CSV = \"combined_val.csv\"\n",
        "    TEST_CSV = \"iam_test.csv\"     # Using IAM test set for final evaluation\n",
        "    IMAGE_SIZE = (384, 384)       # 384x384 as suggested in the assignment\n",
        "    USE_MIXED_PRECISION = True    # Enable mixed precision training\n",
        "    GRADIENT_ACCUMULATION_STEPS = 2  # To simulate larger batch sizes\n",
        "    EARLY_STOPPING_PATIENCE = 3   # Stop training if no improvement after 3 epochs\n",
        "    CER_TARGET = 0.07             # 7% target CER\n",
        "    WER_TARGET = 0.15             # 15% target WER\n",
        "\n",
        "# Enhanced OCR Dataset with more robust image preprocessing\n",
        "class OCRDataset(Dataset):\n",
        "    def __init__(self, csv_file, processor, transform=None, max_samples=None, advanced_preprocessing=True):\n",
        "        self.data = pd.read_csv(csv_file)\n",
        "        if max_samples is not None:\n",
        "            self.data = self.data.head(max_samples)\n",
        "        # Ensure only valid rows with non-null image paths are kept\n",
        "        self.data = self.data[self.data[\"image_path\"].notnull() & (self.data[\"image_path\"] != \"\")]\n",
        "        self.processor = processor\n",
        "        self.transform = transform\n",
        "        self.advanced_preprocessing = advanced_preprocessing\n",
        "\n",
        "    def __len__(self):\n",
        "        return len(self.data)\n",
        "\n",
        "    def preprocess_image(self, image):\n",
        "        \"\"\"Advanced image preprocessing with OpenCV\"\"\"\n",
        "        if not self.advanced_preprocessing:\n",
        "            return image\n",
        "\n",
        "        # Convert PIL to OpenCV format\n",
        "        img = np.array(image)\n",
        "\n",
        "        # Apply noise reduction (Gaussian blur)\n",
        "        img = cv2.GaussianBlur(img, (3, 3), 0)\n",
        "\n",
        "        # Apply adaptive thresholding for better contrast in handwritten text\n",
        "        if len(img.shape) == 3:  # Color image\n",
        "            img_gray = cv2.cvtColor(img, cv2.COLOR_RGB2GRAY)\n",
        "        else:  # Already grayscale\n",
        "            img_gray = img\n",
        "\n",
        "        # Convert back to RGB (3 channels) as TrOCR expects RGB input\n",
        "        img_processed = cv2.cvtColor(img_gray, cv2.COLOR_GRAY2RGB)\n",
        "\n",
        "        # Convert back to PIL\n",
        "        return Image.fromarray(img_processed)\n",
        "\n",
        "    def __getitem__(self, idx):\n",
        "        row = self.data.iloc[idx]\n",
        "        image_path = row[\"image_path\"]\n",
        "\n",
        "        try:\n",
        "            # Open image and apply preprocessing\n",
        "            image = Image.open(image_path).convert(\"RGB\")\n",
        "            image = self.preprocess_image(image)\n",
        "\n",
        "            if self.transform:\n",
        "                image = self.transform(image)\n",
        "\n",
        "            text = str(row[\"text\"])\n",
        "            return {\"image\": image, \"text\": text}\n",
        "        except Exception as e:\n",
        "            print(f\"Error processing image {image_path}: {e}\")\n",
        "            # Return a placeholder to avoid breaking the batch\n",
        "            # In a production system, you might want to handle this differently\n",
        "            placeholder = Image.new('RGB', Config.IMAGE_SIZE, color='white')\n",
        "            if self.transform:\n",
        "                placeholder = self.transform(placeholder)\n",
        "            return {\"image\": placeholder, \"text\": \"\"}\n",
        "\n",
        "# Enhanced data augmentation for training\n",
        "train_transforms = transforms.Compose([\n",
        "    transforms.Resize(Config.IMAGE_SIZE),\n",
        "    transforms.ColorJitter(brightness=0.3, contrast=0.3, saturation=0.3, hue=0.1),\n",
        "    transforms.RandomRotation(degrees=5),  # More conservative rotation to avoid distorting text\n",
        "    transforms.RandomAffine(degrees=0, translate=(0.05, 0.05), scale=(0.95, 1.05)),  # Slight affine transforms\n",
        "    transforms.ToTensor(),\n",
        "])\n",
        "\n",
        "val_transforms = transforms.Compose([\n",
        "    transforms.Resize(Config.IMAGE_SIZE),\n",
        "    transforms.ToTensor(),\n",
        "])\n",
        "\n",
        "# Load pre-trained TrOCR model and processor\n",
        "processor = TrOCRProcessor.from_pretrained(\"microsoft/trocr-large-handwritten\")\n",
        "model = VisionEncoderDecoderModel.from_pretrained(\"microsoft/trocr-large-handwritten\")\n",
        "\n",
        "# Set device and move model to device\n",
        "device = torch.device(\"cuda\" if torch.cuda.is_available() else \"cpu\")\n",
        "model.to(device)\n",
        "\n",
        "# Enable multi-GPU if available\n",
        "if torch.cuda.device_count() > 1:\n",
        "    print(f\"Using {torch.cuda.device_count()} GPUs with DataParallel.\")\n",
        "    model = torch.nn.DataParallel(model)\n",
        "\n",
        "# Set special tokens if not already defined\n",
        "if model.config.decoder_start_token_id is None:\n",
        "    model.config.decoder_start_token_id = processor.tokenizer.bos_token_id\n",
        "if model.config.pad_token_id is None:\n",
        "    model.config.pad_token_id = processor.tokenizer.pad_token_id\n",
        "\n",
        "# Create datasets\n",
        "train_dataset = OCRDataset(Config.TRAIN_CSV, processor, transform=train_transforms)\n",
        "val_dataset = OCRDataset(Config.VAL_CSV, processor, transform=val_transforms)\n",
        "test_dataset = OCRDataset(Config.TEST_CSV, processor, transform=val_transforms)\n",
        "\n",
        "# Enhanced data collator with better error handling\n",
        "def data_collator(features):\n",
        "    \"\"\"Collate features into batch\"\"\"\n",
        "    # Filter out any samples missing required keys or with empty values\n",
        "    valid_features = [f for f in features if \"image\" in f and \"text\" in f and f[\"image\"] is not None and f[\"text\"] is not None]\n",
        "    if len(valid_features) < len(features):\n",
        "        print(f\"Warning: Filtered out {len(features) - len(valid_features)} invalid samples from batch.\")\n",
        "    if not valid_features:\n",
        "        # In a real-world scenario, you might need more robust handling of completely invalid batches\n",
        "        raise ValueError(\"All samples in the batch are invalid.\")\n",
        "\n",
        "    images = [f[\"image\"] for f in valid_features]\n",
        "    texts  = [f[\"text\"] for f in valid_features]\n",
        "\n",
        "    # Process images and texts using the processor in batch\n",
        "    try:\n",
        "        pixel_values = processor(images=images, return_tensors=\"pt\", do_rescale=False).pixel_values\n",
        "    except Exception as e:\n",
        "        print(f\"Error processing images: {e}\")\n",
        "        # Create a placeholder batch with correct dimensions in case of processing errors\n",
        "        pixel_values = torch.zeros((len(images), 3, Config.IMAGE_SIZE[0], Config.IMAGE_SIZE[1]), dtype=torch.float32)\n",
        "\n",
        "    # Process text with padding and truncation\n",
        "    labels = processor.tokenizer(\n",
        "        texts,\n",
        "        padding=\"max_length\",\n",
        "        truncation=True,\n",
        "        max_length=128,\n",
        "        return_tensors=\"pt\"\n",
        "    ).input_ids\n",
        "\n",
        "    # Replace padding token ids with -100 so they're ignored by the loss function\n",
        "    labels[labels == processor.tokenizer.pad_token_id] = -100\n",
        "\n",
        "    return {\"pixel_values\": pixel_values, \"labels\": labels}\n",
        "\n",
        "# Evaluation metrics\n",
        "cer_metric = evaluate.load(\"cer\")\n",
        "wer_metric = evaluate.load(\"wer\")\n",
        "\n",
        "def compute_metrics(eval_pred):\n",
        "    \"\"\"Compute CER and WER metrics\"\"\"\n",
        "    predictions, labels = eval_pred\n",
        "    # Replace -100 with pad token id for decoding\n",
        "    predictions = np.where(predictions == -100, processor.tokenizer.pad_token_id, predictions)\n",
        "    labels = np.where(labels == -100, processor.tokenizer.pad_token_id, labels)\n",
        "\n",
        "    # Decode predictions and references\n",
        "    pred_str = processor.batch_decode(predictions, skip_special_tokens=True)\n",
        "    label_str = processor.batch_decode(labels, skip_special_tokens=True)\n",
        "\n",
        "    # Remove empty predictions/references to avoid metric calculation errors\n",
        "    filtered_pairs = [(p, l) for p, l in zip(pred_str, label_str) if p.strip() and l.strip()]\n",
        "    if not filtered_pairs:\n",
        "        return {\"cer\": 1.0, \"wer\": 1.0}  # Return max error if no valid pairs\n",
        "\n",
        "    filtered_preds, filtered_labels = zip(*filtered_pairs)\n",
        "\n",
        "    # Compute metrics\n",
        "    cer = cer_metric.compute(predictions=filtered_preds, references=filtered_labels)\n",
        "    wer = wer_metric.compute(predictions=filtered_preds, references=filtered_labels)\n",
        "\n",
        "    return {\"cer\": cer, \"wer\": wer}\n",
        "\n",
        "# Custom logging callback for detailed training progress\n",
        "class LoggingCallback(TrainerCallback):\n",
        "    \"\"\"Callback for detailed training logging\"\"\"\n",
        "    def on_train_begin(self, args, state, control, **kwargs):\n",
        "        print(f\"==== Starting training on {device} ====\")\n",
        "        if torch.cuda.is_available():\n",
        "            print(f\"GPU: {torch.cuda.get_device_name(0)}\")\n",
        "            print(f\"Memory allocated: {torch.cuda.memory_allocated(0) / 1e9:.2f} GB\")\n",
        "        print(f\"Training {Config.EPOCHS} epochs with batch size {Config.BATCH_SIZE}\")\n",
        "        if Config.USE_MIXED_PRECISION:\n",
        "            print(\"Using mixed precision training\")\n",
        "\n",
        "    def on_epoch_begin(self, args, state, control, **kwargs):\n",
        "        print(f\"Epoch {state.epoch:.2f} starting...\")\n",
        "\n",
        "    def on_epoch_end(self, args, state, control, **kwargs):\n",
        "        # Log metrics from the most recent log history entry\n",
        "        if state.log_history:\n",
        "            last_metrics = {}\n",
        "            # Extract metrics from the end of log history\n",
        "            for entry in reversed(state.log_history):\n",
        "                if 'eval_cer' in entry:\n",
        "                    last_metrics = entry\n",
        "                    break\n",
        "\n",
        "            if last_metrics:\n",
        "                print(f\"Epoch {state.epoch:.2f} finished. Metrics:\")\n",
        "                print(f\"  CER: {last_metrics.get('eval_cer', 'N/A'):.4f}\")\n",
        "                print(f\"  WER: {last_metrics.get('eval_wer', 'N/A'):.4f}\")\n",
        "                print(f\"  Loss: {last_metrics.get('eval_loss', 'N/A'):.4f}\")\n",
        "\n",
        "                # Check if we've reached target metrics\n",
        "                if last_metrics.get('eval_cer', 1.0) <= Config.CER_TARGET and \\\n",
        "                   last_metrics.get('eval_wer', 1.0) <= Config.WER_TARGET:\n",
        "                    print(f\"✅ Target metrics achieved! CER: {last_metrics.get('eval_cer'):.4f}, WER: {last_metrics.get('eval_wer'):.4f}\")\n",
        "            else:\n",
        "                print(f\"Epoch {state.epoch:.2f} finished, but no metrics available.\")\n",
        "\n",
        "    def on_train_end(self, args, state, control, **kwargs):\n",
        "        print(\"==== Training completed ====\")\n"
      ],
      "metadata": {
        "trusted": true,
        "execution": {
          "iopub.status.busy": "2025-05-16T16:32:16.174935Z",
          "iopub.execute_input": "2025-05-16T16:32:16.17523Z",
          "iopub.status.idle": "2025-05-16T16:32:41.79093Z",
          "shell.execute_reply.started": "2025-05-16T16:32:16.175206Z",
          "shell.execute_reply": "2025-05-16T16:32:41.789851Z"
        },
        "colab": {
          "referenced_widgets": [
            "3474e5b3abf24597a0eb81c488cde856",
            "07fcbfc02bc3452c89a7bdbf90da122d",
            "d5a06882472d46ad8a04a0a70d3439f9",
            "9c3dc976dcc641c69cddbcb450bb5b22",
            "a083965ed35047108112ffae2c0c7865",
            "8b33ec344b9e4d92b78ef4bb6d210310",
            "404ed41b90b74e7a9218e1ae9ba85d5e",
            "64337055cf674a558dde449da77c5484",
            "4b5a00cac2e24f6282ff2139f80bfb9d"
          ]
        },
        "id": "2JPREg-Udpd8",
        "outputId": "2e62fce9-201f-440a-fa43-eecac9b7d80d"
      },
      "outputs": [
        {
          "name": "stderr",
          "text": "2025-05-16 16:32:20.763014: E external/local_xla/xla/stream_executor/cuda/cuda_fft.cc:477] Unable to register cuFFT factory: Attempting to register factory for plugin cuFFT when one has already been registered\nWARNING: All log messages before absl::InitializeLog() is called are written to STDERR\nE0000 00:00:1747413140.785034     175 cuda_dnn.cc:8310] Unable to register cuDNN factory: Attempting to register factory for plugin cuDNN when one has already been registered\nE0000 00:00:1747413140.791854     175 cuda_blas.cc:1418] Unable to register cuBLAS factory: Attempting to register factory for plugin cuBLAS when one has already been registered\nUsing a slow image processor as `use_fast` is unset and a slow processor was saved with this model. `use_fast=True` will be the default behavior in v4.52, even if the model was saved with a slow processor. This will result in minor differences in outputs. You'll still be able to use a slow processor with `use_fast=False`.\n",
          "output_type": "stream"
        },
        {
          "output_type": "display_data",
          "data": {
            "text/plain": "vocab.json:   0%|          | 0.00/899k [00:00<?, ?B/s]",
            "application/vnd.jupyter.widget-view+json": {
              "version_major": 2,
              "version_minor": 0,
              "model_id": "3474e5b3abf24597a0eb81c488cde856"
            }
          },
          "metadata": {}
        },
        {
          "output_type": "display_data",
          "data": {
            "text/plain": "merges.txt:   0%|          | 0.00/456k [00:00<?, ?B/s]",
            "application/vnd.jupyter.widget-view+json": {
              "version_major": 2,
              "version_minor": 0,
              "model_id": "07fcbfc02bc3452c89a7bdbf90da122d"
            }
          },
          "metadata": {}
        },
        {
          "output_type": "display_data",
          "data": {
            "text/plain": "special_tokens_map.json:   0%|          | 0.00/772 [00:00<?, ?B/s]",
            "application/vnd.jupyter.widget-view+json": {
              "version_major": 2,
              "version_minor": 0,
              "model_id": "d5a06882472d46ad8a04a0a70d3439f9"
            }
          },
          "metadata": {}
        },
        {
          "output_type": "display_data",
          "data": {
            "text/plain": "config.json:   0%|          | 0.00/4.13k [00:00<?, ?B/s]",
            "application/vnd.jupyter.widget-view+json": {
              "version_major": 2,
              "version_minor": 0,
              "model_id": "9c3dc976dcc641c69cddbcb450bb5b22"
            }
          },
          "metadata": {}
        },
        {
          "output_type": "display_data",
          "data": {
            "text/plain": "pytorch_model.bin:   0%|          | 0.00/2.23G [00:00<?, ?B/s]",
            "application/vnd.jupyter.widget-view+json": {
              "version_major": 2,
              "version_minor": 0,
              "model_id": "a083965ed35047108112ffae2c0c7865"
            }
          },
          "metadata": {}
        },
        {
          "output_type": "display_data",
          "data": {
            "text/plain": "model.safetensors:   0%|          | 0.00/2.23G [00:00<?, ?B/s]",
            "application/vnd.jupyter.widget-view+json": {
              "version_major": 2,
              "version_minor": 0,
              "model_id": "8b33ec344b9e4d92b78ef4bb6d210310"
            }
          },
          "metadata": {}
        },
        {
          "name": "stderr",
          "text": "Config of the encoder: <class 'transformers.models.vit.modeling_vit.ViTModel'> is overwritten by shared encoder config: ViTConfig {\n  \"attention_probs_dropout_prob\": 0.0,\n  \"encoder_stride\": 16,\n  \"hidden_act\": \"gelu\",\n  \"hidden_dropout_prob\": 0.0,\n  \"hidden_size\": 1024,\n  \"image_size\": 384,\n  \"initializer_range\": 0.02,\n  \"intermediate_size\": 4096,\n  \"layer_norm_eps\": 1e-12,\n  \"model_type\": \"vit\",\n  \"num_attention_heads\": 16,\n  \"num_channels\": 3,\n  \"num_hidden_layers\": 24,\n  \"patch_size\": 16,\n  \"pooler_act\": \"tanh\",\n  \"pooler_output_size\": 1024,\n  \"qkv_bias\": false,\n  \"torch_dtype\": \"float32\",\n  \"transformers_version\": \"4.51.3\"\n}\n\nConfig of the decoder: <class 'transformers.models.trocr.modeling_trocr.TrOCRForCausalLM'> is overwritten by shared decoder config: TrOCRConfig {\n  \"activation_dropout\": 0.0,\n  \"activation_function\": \"gelu\",\n  \"add_cross_attention\": true,\n  \"attention_dropout\": 0.0,\n  \"bos_token_id\": 0,\n  \"classifier_dropout\": 0.0,\n  \"cross_attention_hidden_size\": 1024,\n  \"d_model\": 1024,\n  \"decoder_attention_heads\": 16,\n  \"decoder_ffn_dim\": 4096,\n  \"decoder_layerdrop\": 0.0,\n  \"decoder_layers\": 12,\n  \"decoder_start_token_id\": 2,\n  \"dropout\": 0.1,\n  \"eos_token_id\": 2,\n  \"init_std\": 0.02,\n  \"is_decoder\": true,\n  \"layernorm_embedding\": true,\n  \"max_position_embeddings\": 512,\n  \"model_type\": \"trocr\",\n  \"pad_token_id\": 1,\n  \"scale_embedding\": false,\n  \"torch_dtype\": \"float32\",\n  \"transformers_version\": \"4.51.3\",\n  \"use_cache\": false,\n  \"use_learned_position_embeddings\": true,\n  \"vocab_size\": 50265\n}\n\nSome weights of VisionEncoderDecoderModel were not initialized from the model checkpoint at microsoft/trocr-large-handwritten and are newly initialized: ['encoder.pooler.dense.bias', 'encoder.pooler.dense.weight']\nYou should probably TRAIN this model on a down-stream task to be able to use it for predictions and inference.\n",
          "output_type": "stream"
        },
        {
          "output_type": "display_data",
          "data": {
            "text/plain": "generation_config.json:   0%|          | 0.00/190 [00:00<?, ?B/s]",
            "application/vnd.jupyter.widget-view+json": {
              "version_major": 2,
              "version_minor": 0,
              "model_id": "404ed41b90b74e7a9218e1ae9ba85d5e"
            }
          },
          "metadata": {}
        },
        {
          "output_type": "display_data",
          "data": {
            "text/plain": "Downloading builder script:   0%|          | 0.00/5.60k [00:00<?, ?B/s]",
            "application/vnd.jupyter.widget-view+json": {
              "version_major": 2,
              "version_minor": 0,
              "model_id": "64337055cf674a558dde449da77c5484"
            }
          },
          "metadata": {}
        },
        {
          "output_type": "display_data",
          "data": {
            "text/plain": "Downloading builder script:   0%|          | 0.00/4.49k [00:00<?, ?B/s]",
            "application/vnd.jupyter.widget-view+json": {
              "version_major": 2,
              "version_minor": 0,
              "model_id": "4b5a00cac2e24f6282ff2139f80bfb9d"
            }
          },
          "metadata": {}
        }
      ],
      "execution_count": null
    },
    {
      "cell_type": "code",
      "source": [
        "# Part 5: Configure training arguments and trainer\n",
        "training_args = Seq2SeqTrainingArguments(\n",
        "    output_dir=\"./trocr_finetuned\",\n",
        "    per_device_train_batch_size=Config.BATCH_SIZE,\n",
        "    per_device_eval_batch_size=Config.BATCH_SIZE,\n",
        "    num_train_epochs=Config.EPOCHS,\n",
        "    eval_strategy=\"epoch\",  # Changed from evaluation_strategy to eval_strategy\n",
        "    save_strategy=\"epoch\",\n",
        "    learning_rate=Config.LEARNING_RATE,\n",
        "    fp16=Config.USE_MIXED_PRECISION,  # Mixed precision for memory efficiency\n",
        "    gradient_accumulation_steps=Config.GRADIENT_ACCUMULATION_STEPS,  # Simulate larger batch sizes\n",
        "    logging_steps=100,\n",
        "    logging_first_step=True,\n",
        "    log_level=\"info\",\n",
        "    save_total_limit=2,  # Keep only the 2 best checkpoints\n",
        "    predict_with_generate=True,\n",
        "    dataloader_num_workers=4,  # Parallel data loading\n",
        "    report_to=[\"wandb\"] if \"WANDB_API_KEY\" in os.environ else [\"none\"],  # Only use wandb if API key is set\n",
        "    logging_dir=\"./logs\",\n",
        "    run_name=\"trocr_finetuning_handwriting\",\n",
        "    remove_unused_columns=False,\n",
        "    load_best_model_at_end=True,\n",
        "    metric_for_best_model=\"wer\",  # Monitor WER for best model selection\n",
        "    greater_is_better=False,  # Lower WER is better\n",
        ")\n",
        "\n",
        "# Initialize trainer\n",
        "trainer = Seq2SeqTrainer(\n",
        "    model=model,\n",
        "    args=training_args,\n",
        "    train_dataset=train_dataset,\n",
        "    eval_dataset=val_dataset,\n",
        "    data_collator=data_collator,\n",
        "    compute_metrics=compute_metrics,\n",
        ")\n",
        "\n",
        "# Add callbacks for logging and early stopping\n",
        "trainer.add_callback(LoggingCallback())\n",
        "trainer.add_callback(EarlyStoppingCallback(early_stopping_patience=Config.EARLY_STOPPING_PATIENCE))"
      ],
      "metadata": {
        "trusted": true,
        "execution": {
          "iopub.status.busy": "2025-05-16T16:37:11.514056Z",
          "iopub.execute_input": "2025-05-16T16:37:11.514803Z",
          "iopub.status.idle": "2025-05-16T16:37:11.557914Z",
          "shell.execute_reply.started": "2025-05-16T16:37:11.514776Z",
          "shell.execute_reply": "2025-05-16T16:37:11.557372Z"
        },
        "id": "qStbpxq8dpd-",
        "outputId": "e78b4234-2e2c-4352-b885-9a56bcafb2b3"
      },
      "outputs": [
        {
          "name": "stderr",
          "text": "PyTorch: setting up devices\nUsing auto half precision backend\n",
          "output_type": "stream"
        }
      ],
      "execution_count": null
    },
    {
      "cell_type": "code",
      "source": [
        "# Part 6: Train the model\n",
        "print(\"Starting fine-tuning...\")\n",
        "trainer.train()\n",
        "\n",
        "# Save the fine-tuned model and processor\n",
        "trainer.save_model(\"./trocr_finetuned_final\")\n",
        "processor.save_pretrained(\"./trocr_finetuned_final\")\n",
        "print(\"Model saved to ./trocr_finetuned_final\")"
      ],
      "metadata": {
        "trusted": true,
        "execution": {
          "iopub.status.busy": "2025-05-16T16:38:17.038643Z",
          "iopub.execute_input": "2025-05-16T16:38:17.038953Z",
          "execution_failed": "2025-05-17T03:19:47.296Z"
        },
        "id": "Ft7ZC2CJdpd_",
        "outputId": "bafbe178-13a0-446c-8fd1-7721f902cd12"
      },
      "outputs": [
        {
          "name": "stderr",
          "text": "***** Running training *****\n  Num examples = 20,212\n  Num Epochs = 10\n  Instantaneous batch size per device = 4\n  Total train batch size (w. parallel, distributed & accumulation) = 8\n  Gradient Accumulation steps = 2\n  Total optimization steps = 25,260\n  Number of trainable parameters = 558,226,432\nAutomatic Weights & Biases logging enabled, to disable set os.environ[\"WANDB_DISABLED\"] = \"true\"\n",
          "output_type": "stream"
        },
        {
          "name": "stdout",
          "text": "Starting fine-tuning...\n",
          "output_type": "stream"
        },
        {
          "output_type": "display_data",
          "data": {
            "text/plain": "<IPython.core.display.HTML object>",
            "text/html": "Tracking run with wandb version 0.19.9"
          },
          "metadata": {}
        },
        {
          "output_type": "display_data",
          "data": {
            "text/plain": "<IPython.core.display.HTML object>",
            "text/html": "Run data is saved locally in <code>/kaggle/working/wandb/run-20250516_163817-vyrs09jw</code>"
          },
          "metadata": {}
        },
        {
          "output_type": "display_data",
          "data": {
            "text/plain": "<IPython.core.display.HTML object>",
            "text/html": "Syncing run <strong><a href='https://wandb.ai/smayour82-lovely-professional-university/huggingface/runs/vyrs09jw' target=\"_blank\">trocr_finetuning_handwriting</a></strong> to <a href='https://wandb.ai/smayour82-lovely-professional-university/huggingface' target=\"_blank\">Weights & Biases</a> (<a href='https://wandb.me/developer-guide' target=\"_blank\">docs</a>)<br>"
          },
          "metadata": {}
        },
        {
          "output_type": "display_data",
          "data": {
            "text/plain": "<IPython.core.display.HTML object>",
            "text/html": " View project at <a href='https://wandb.ai/smayour82-lovely-professional-university/huggingface' target=\"_blank\">https://wandb.ai/smayour82-lovely-professional-university/huggingface</a>"
          },
          "metadata": {}
        },
        {
          "output_type": "display_data",
          "data": {
            "text/plain": "<IPython.core.display.HTML object>",
            "text/html": " View run at <a href='https://wandb.ai/smayour82-lovely-professional-university/huggingface/runs/vyrs09jw' target=\"_blank\">https://wandb.ai/smayour82-lovely-professional-university/huggingface/runs/vyrs09jw</a>"
          },
          "metadata": {}
        },
        {
          "name": "stdout",
          "text": "==== Starting training on cuda ====\nGPU: Tesla P100-PCIE-16GB\nMemory allocated: 2.23 GB\nTraining 10 epochs with batch size 4\nUsing mixed precision training\nEpoch 0.00 starting...\n",
          "output_type": "stream"
        },
        {
          "name": "stderr",
          "text": "`loss_type=None` was set in the config but it is unrecognised.Using the default loss: `ForCausalLMLoss`.\n",
          "output_type": "stream"
        },
        {
          "output_type": "display_data",
          "data": {
            "text/plain": "<IPython.core.display.HTML object>",
            "text/html": "\n    <div>\n      \n      <progress value='1692' max='25260' style='width:300px; height:20px; vertical-align: middle;'></progress>\n      [ 1692/25260 1:00:47 < 14:07:41, 0.46 it/s, Epoch 0.67/10]\n    </div>\n    <table border=\"1\" class=\"dataframe\">\n  <thead>\n <tr style=\"text-align: left;\">\n      <th>Epoch</th>\n      <th>Training Loss</th>\n      <th>Validation Loss</th>\n    </tr>\n  </thead>\n  <tbody>\n  </tbody>\n</table><p>"
          },
          "metadata": {}
        }
      ],
      "execution_count": null
    },
    {
      "cell_type": "code",
      "source": [
        "# Part 7: Evaluate on test set (IAM test set)\n",
        "print(\"\\n===== Evaluating on IAM test set =====\")\n",
        "test_metrics = trainer.evaluate(test_dataset)\n",
        "print(\"Test Metrics:\", test_metrics)\n",
        "\n",
        "# Check if target metrics are achieved\n",
        "target_achieved = (test_metrics[\"eval_cer\"] <= Config.CER_TARGET and\n",
        "                  test_metrics[\"eval_wer\"] <= Config.WER_TARGET)\n",
        "\n",
        "if target_achieved:\n",
        "    print(f\"🎉 Target metrics achieved: CER <= {Config.CER_TARGET} and WER <= {Config.WER_TARGET}\")\n",
        "else:\n",
        "    print(f\"Target metrics not achieved. CER: {test_metrics['eval_cer']:.4f}, WER: {test_metrics['eval_wer']:.4f}\")\n",
        "\n"
      ],
      "metadata": {
        "trusted": true,
        "id": "CR764NYodpeA"
      },
      "outputs": [],
      "execution_count": null
    },
    {
      "cell_type": "code",
      "source": [
        "# Part 8: Define and demonstrate inference function\n",
        "def ocr_inference(image_path, preprocess=True):\n",
        "    \"\"\"\n",
        "    Perform OCR inference on a single image\n",
        "\n",
        "    Args:\n",
        "        image_path: Path to the image file\n",
        "        preprocess: Whether to apply advanced preprocessing\n",
        "\n",
        "    Returns:\n",
        "        Generated text from the OCR model\n",
        "    \"\"\"\n",
        "    # Load and preprocess image\n",
        "    image = Image.open(image_path).convert(\"RGB\")\n",
        "\n",
        "    # Apply advanced preprocessing if requested\n",
        "    if preprocess:\n",
        "        # Convert to OpenCV format for preprocessing\n",
        "        img = np.array(image)\n",
        "        # Apply noise reduction\n",
        "        img = cv2.GaussianBlur(img, (3, 3), 0)\n",
        "        # Convert to grayscale for better text recognition\n",
        "        img_gray = cv2.cvtColor(img, cv2.COLOR_RGB2GRAY) if len(img.shape) == 3 else img\n",
        "        # Convert back to RGB (3 channels) for the model\n",
        "        img = cv2.cvtColor(img_gray, cv2.COLOR_GRAY2RGB)\n",
        "        # Convert back to PIL\n",
        "        image = Image.fromarray(img)\n",
        "\n",
        "    # Resize image\n",
        "    image = image.resize(Config.IMAGE_SIZE)\n",
        "    # Convert to tensor\n",
        "    image = transforms.ToTensor()(image)\n",
        "\n",
        "    # Process with TrOCR processor and generate text\n",
        "    pixel_values = processor(images=image, return_tensors=\"pt\", do_rescale=False).pixel_values.to(device)\n",
        "\n",
        "    # Generate text with the model\n",
        "    with torch.no_grad():\n",
        "        generated_ids = model.generate(pixel_values)\n",
        "\n",
        "    # Decode the generated text\n",
        "    generated_text = processor.batch_decode(generated_ids, skip_special_tokens=True)[0]\n",
        "\n",
        "    return generated_text\n",
        "\n",
        "# Sample inference demonstration\n",
        "from IPython.display import display\n",
        "\n",
        "# Perform inference on sample images from the test set\n",
        "sample_count = 5\n",
        "print(f\"\\n===== Sample OCR Inference on {sample_count} Test Images =====\")\n",
        "\n",
        "for idx, row in pd.read_csv(Config.TEST_CSV).head(sample_count).iterrows():\n",
        "    image_path = row[\"image_path\"]\n",
        "    ground_truth = row[\"text\"]\n",
        "\n",
        "    try:\n",
        "        # Open and display the test image\n",
        "        image = Image.open(image_path).convert(\"RGB\")\n",
        "        print(f\"\\nTest Image {idx+1}:\")\n",
        "        display(image)\n",
        "\n",
        "        # Run OCR inference\n",
        "        predicted_text = ocr_inference(image_path)\n",
        "\n",
        "        # Print ground truth and prediction\n",
        "        print(f\"Ground Truth: {ground_truth}\")\n",
        "        print(f\"OCR Output:   {predicted_text}\")\n",
        "\n",
        "        # Calculate CER and WER for this prediction\n",
        "        sample_cer = cer_metric.compute(predictions=[predicted_text], references=[ground_truth])\n",
        "        sample_wer = wer_metric.compute(predictions=[predicted_text], references=[ground_truth])\n",
        "        print(f\"Sample CER: {sample_cer:.4f}, Sample WER: {sample_wer:.4f}\")\n",
        "\n",
        "    except Exception as e:\n",
        "        print(f\"Error processing image {image_path}: {e}\")\n",
        "\n",
        "print(\"\\n===== Fine-tuning Complete =====\")\n",
        "print(f\"Final CER: {test_metrics['eval_cer']:.4f} (Target: {Config.CER_TARGET})\")\n",
        "print(f\"Final WER: {test_metrics['eval_wer']:.4f} (Target: {Config.WER_TARGET})\")\n",
        "print(f\"{'✅ Target achieved' if target_achieved else '❌ Target not achieved'}\")"
      ],
      "metadata": {
        "trusted": true,
        "id": "-25BSHd0dpeC"
      },
      "outputs": [],
      "execution_count": null
    }
  ]
}